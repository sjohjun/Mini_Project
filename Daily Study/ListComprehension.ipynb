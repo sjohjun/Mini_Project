{
  "nbformat": 4,
  "nbformat_minor": 0,
  "metadata": {
    "colab": {
      "provenance": [],
      "authorship_tag": "ABX9TyN7JhdWJnWfkv64LJpgTsFx",
      "include_colab_link": true
    },
    "kernelspec": {
      "name": "python3",
      "display_name": "Python 3"
    },
    "language_info": {
      "name": "python"
    }
  },
  "cells": [
    {
      "cell_type": "markdown",
      "metadata": {
        "id": "view-in-github",
        "colab_type": "text"
      },
      "source": [
        "<a href=\"https://colab.research.google.com/github/sjohjun/yseduSchool/blob/main/Daily%20Study/ListComprehension.ipynb\" target=\"_parent\"><img src=\"https://colab.research.google.com/assets/colab-badge.svg\" alt=\"Open In Colab\"/></a>"
      ]
    },
    {
      "cell_type": "code",
      "execution_count": null,
      "metadata": {
        "id": "hBGEKk46ndIo"
      },
      "outputs": [],
      "source": []
    },
    {
      "cell_type": "markdown",
      "source": [
        "List Comprehension\n",
        "\n",
        "\n",
        "---\n",
        "*     for문을 좀 더 간결하게 표현하는 방법\n",
        "\n",
        "\n",
        "\n",
        "\n",
        "\n",
        "\n",
        "\n",
        "\n"
      ],
      "metadata": {
        "id": "ZF8ib4KpneLt"
      }
    },
    {
      "cell_type": "code",
      "source": [
        "# 기본 표현식\n",
        "\n",
        "#[표현식 for 항목 in  반복 가능 객체 if 조건문]\n",
        "\n",
        "#예시 코드 1\n",
        "\n",
        "even_num = []\n",
        "\n",
        "for i in range(1, 101):\n",
        "  if i % 2 == 0:\n",
        "    even_num.append(i)\n",
        "  else:\n",
        "    continue\n",
        "print(even_num)\n",
        "\n",
        "#예시 코드 1을 list comprehension을 이용\n",
        "\n",
        "even_num = [x for x in range(1, 101) if x % 2 == 0]\n",
        "print(even_num)\n",
        "\n",
        "#같은 결과를 출력하지만 코드가 훨씬 짧은 것을 확인할 수 있다.\n"
      ],
      "metadata": {
        "colab": {
          "base_uri": "https://localhost:8080/"
        },
        "id": "FtQ9bBqKn2YE",
        "outputId": "3b27ace8-ed87-4488-8d74-85374bb5c3f8"
      },
      "execution_count": 3,
      "outputs": [
        {
          "output_type": "stream",
          "name": "stdout",
          "text": [
            "[2, 4, 6, 8, 10, 12, 14, 16, 18, 20, 22, 24, 26, 28, 30, 32, 34, 36, 38, 40, 42, 44, 46, 48, 50, 52, 54, 56, 58, 60, 62, 64, 66, 68, 70, 72, 74, 76, 78, 80, 82, 84, 86, 88, 90, 92, 94, 96, 98, 100]\n",
            "[2, 4, 6, 8, 10, 12, 14, 16, 18, 20, 22, 24, 26, 28, 30, 32, 34, 36, 38, 40, 42, 44, 46, 48, 50, 52, 54, 56, 58, 60, 62, 64, 66, 68, 70, 72, 74, 76, 78, 80, 82, 84, 86, 88, 90, 92, 94, 96, 98, 100]\n"
          ]
        }
      ]
    }
  ]
}