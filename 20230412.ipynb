{
  "nbformat": 4,
  "nbformat_minor": 0,
  "metadata": {
    "colab": {
      "provenance": [],
      "authorship_tag": "ABX9TyP8Mhc3lQmpZfzoEwVmYnGS",
      "include_colab_link": true
    },
    "kernelspec": {
      "name": "python3",
      "display_name": "Python 3"
    },
    "language_info": {
      "name": "python"
    }
  },
  "cells": [
    {
      "cell_type": "markdown",
      "metadata": {
        "id": "view-in-github",
        "colab_type": "text"
      },
      "source": [
        "<a href=\"https://colab.research.google.com/github/sjohjun/yseduSchool/blob/main/20230412.ipynb\" target=\"_parent\"><img src=\"https://colab.research.google.com/assets/colab-badge.svg\" alt=\"Open In Colab\"/></a>"
      ]
    },
    {
      "cell_type": "markdown",
      "source": [
        "## 데이터 타입\n",
        "\n",
        "# - int, str, bool 등 "
      ],
      "metadata": {
        "id": "EYZol7tTAJqg"
      }
    },
    {
      "cell_type": "code",
      "source": [],
      "metadata": {
        "id": "e_qHghpTCIiw"
      },
      "execution_count": null,
      "outputs": []
    },
    {
      "cell_type": "code",
      "source": [
        "num_int = 30\n",
        "print(num_int)\n",
        "print(type(num_int))"
      ],
      "metadata": {
        "colab": {
          "base_uri": "https://localhost:8080/"
        },
        "id": "eDixr-GPAVyQ",
        "outputId": "f2b43ac0-55a5-4582-9201-7528cec955e6"
      },
      "execution_count": 2,
      "outputs": [
        {
          "output_type": "stream",
          "name": "stdout",
          "text": [
            "30\n",
            "<class 'int'>\n"
          ]
        }
      ]
    },
    {
      "cell_type": "code",
      "source": [
        "#float type\n",
        "\n",
        "my_height = 180\n",
        "print(my_height)\n",
        "print(type(my_height))"
      ],
      "metadata": {
        "colab": {
          "base_uri": "https://localhost:8080/"
        },
        "id": "cTy9-p87BFSL",
        "outputId": "6c937738-8ccb-4ebc-bc80-f88671f82fb5"
      },
      "execution_count": 3,
      "outputs": [
        {
          "output_type": "stream",
          "name": "stdout",
          "text": [
            "180\n",
            "<class 'int'>\n"
          ]
        }
      ]
    },
    {
      "cell_type": "code",
      "source": [
        "#str type\n",
        "\n",
        "my_name = \"evan\"\n",
        "print(my_name)\n",
        "print(type(my_name))"
      ],
      "metadata": {
        "colab": {
          "base_uri": "https://localhost:8080/"
        },
        "id": "TSlJgLY2BRWP",
        "outputId": "35df08a5-bfd2-4669-90d3-62c58e75bc7e"
      },
      "execution_count": 4,
      "outputs": [
        {
          "output_type": "stream",
          "name": "stdout",
          "text": [
            "evan\n",
            "<class 'str'>\n"
          ]
        }
      ]
    },
    {
      "cell_type": "code",
      "source": [
        "#bool\n",
        "\n",
        "x = True\n",
        "y = False\n",
        "z = x == y\n",
        "\n",
        "print(z)"
      ],
      "metadata": {
        "colab": {
          "base_uri": "https://localhost:8080/"
        },
        "id": "WgmGNahDCJXg",
        "outputId": "465f443a-875b-44c0-9b99-e45bbd8cdb4d"
      },
      "execution_count": 5,
      "outputs": [
        {
          "output_type": "stream",
          "name": "stdout",
          "text": [
            "False\n"
          ]
        }
      ]
    },
    {
      "cell_type": "code",
      "source": [
        "#사칙연산\n",
        "\n",
        "x = 3\n",
        "y = 6\n",
        "\n",
        "print(x + y)\n",
        "print(x - y)\n",
        "print(x * y)\n",
        "print(x / y)\n",
        "print(x % y)\n",
        "print(x // y)\n",
        "print(x ** y)"
      ],
      "metadata": {
        "colab": {
          "base_uri": "https://localhost:8080/"
        },
        "id": "dMR0h5NICke6",
        "outputId": "69b29c7c-70c8-4826-bd17-f1779ed25795"
      },
      "execution_count": 8,
      "outputs": [
        {
          "output_type": "stream",
          "name": "stdout",
          "text": [
            "9\n",
            "-3\n",
            "18\n",
            "0.5\n",
            "3\n",
            "0\n",
            "729\n"
          ]
        }
      ]
    },
    {
      "cell_type": "code",
      "source": [
        "x = 10\n",
        "y = 11\n",
        "\n",
        "print(x == y)\n",
        "print(x != y)\n",
        "print(x > y)\n",
        "print(x < y)\n",
        "print(x <= y)\n",
        "print(x >= y)"
      ],
      "metadata": {
        "colab": {
          "base_uri": "https://localhost:8080/"
        },
        "id": "TdDBjBUbDuEn",
        "outputId": "ded8f5f0-6ae6-4a51-9e24-8392f5868320"
      },
      "execution_count": 10,
      "outputs": [
        {
          "output_type": "stream",
          "name": "stdout",
          "text": [
            "False\n",
            "True\n",
            "False\n",
            "True\n",
            "True\n",
            "False\n"
          ]
        }
      ]
    },
    {
      "cell_type": "code",
      "source": [
        "a = int(input(\"숫자를 입력하세요\"))\n",
        "\n",
        "print(a)\n",
        "print(type(a))"
      ],
      "metadata": {
        "colab": {
          "base_uri": "https://localhost:8080/"
        },
        "id": "WPGLibMqEHog",
        "outputId": "2cb190d8-af97-48f7-9bf5-7bdeaa6d988d"
      },
      "execution_count": 14,
      "outputs": [
        {
          "output_type": "stream",
          "name": "stdout",
          "text": [
            "숫자를 입력하세요1\n",
            "1\n",
            "<class 'int'>\n"
          ]
        }
      ]
    },
    {
      "cell_type": "code",
      "source": [
        "#String\n",
        "\n",
        "a = \"소년은 \"\n",
        "b = \"봄을 \"\n",
        "c = \"좋아합니다.\"\n",
        "\n",
        "print(a + b + c)"
      ],
      "metadata": {
        "colab": {
          "base_uri": "https://localhost:8080/"
        },
        "id": "RNKcLgmAEoMB",
        "outputId": "4b0e186e-2140-4e05-a682-8787f8b8a93a"
      },
      "execution_count": 15,
      "outputs": [
        {
          "output_type": "stream",
          "name": "stdout",
          "text": [
            "소년은 봄을 좋아합니다.\n"
          ]
        }
      ]
    },
    {
      "cell_type": "code",
      "source": [
        "x = \"봄\"\n",
        "lyrics = (x +\" \") * 3\n",
        "print(lyrics)"
      ],
      "metadata": {
        "colab": {
          "base_uri": "https://localhost:8080/"
        },
        "id": "dFwRqHqmEoS4",
        "outputId": "e48948d7-e210-4e42-cd3e-b461729ab7f2"
      },
      "execution_count": 20,
      "outputs": [
        {
          "output_type": "stream",
          "name": "stdout",
          "text": [
            "봄 봄 봄 \n"
          ]
        }
      ]
    },
    {
      "cell_type": "code",
      "source": [
        "#인덱싱 슬라이싱\n",
        "\n",
        "x = \"Hello World\"\n",
        "\n",
        "#첫번째 문제 : Hello의 알파벳 o\n",
        "print(x[4])\n",
        "\n",
        "#두번째 문제 : world의 알파벳 l\n",
        "\n",
        "print(x[-2])\n",
        "\n",
        "#세번째 문제 : world 글자 출력\n",
        "\n",
        "print(x[6:])"
      ],
      "metadata": {
        "colab": {
          "base_uri": "https://localhost:8080/"
        },
        "id": "EFdG9FRyF8MX",
        "outputId": "a0a85ff8-2d03-4666-82b8-6bfff7cdded2"
      },
      "execution_count": 28,
      "outputs": [
        {
          "output_type": "stream",
          "name": "stdout",
          "text": [
            "o\n",
            "l\n",
            "World\n"
          ]
        }
      ]
    },
    {
      "cell_type": "code",
      "source": [
        "x = \"Hello World\"\n",
        "\n",
        "print(x[0:11:2])"
      ],
      "metadata": {
        "colab": {
          "base_uri": "https://localhost:8080/"
        },
        "id": "Vq5GcoUNNfOv",
        "outputId": "2adffeff-5008-427b-9c1b-473b0a6da083"
      },
      "execution_count": 29,
      "outputs": [
        {
          "output_type": "stream",
          "name": "stdout",
          "text": [
            "HloWrd\n"
          ]
        }
      ]
    },
    {
      "cell_type": "code",
      "source": [
        "x = \"Hello World\"\n",
        "\n",
        "y = x.replace(\"H\", \"A\")\n",
        "print(y)\n",
        "\n"
      ],
      "metadata": {
        "colab": {
          "base_uri": "https://localhost:8080/"
        },
        "id": "1Y35XSwRNuh9",
        "outputId": "85cfac21-b0f5-4575-e6be-71683495359e"
      },
      "execution_count": 43,
      "outputs": [
        {
          "output_type": "stream",
          "name": "stdout",
          "text": [
            "Aello World\n"
          ]
        }
      ]
    },
    {
      "cell_type": "code",
      "source": [
        "x = \"Hello World\"\n",
        "x = \"A\" + x[1:]\n",
        "print(x)"
      ],
      "metadata": {
        "colab": {
          "base_uri": "https://localhost:8080/"
        },
        "id": "6r4hN5pyPNmx",
        "outputId": "8ba32260-d212-43fa-de6d-53c72255fe74"
      },
      "execution_count": 45,
      "outputs": [
        {
          "output_type": "stream",
          "name": "stdout",
          "text": [
            "Aello World\n"
          ]
        }
      ]
    },
    {
      "cell_type": "code",
      "source": [
        "# 문자열 메서드\n",
        "\n",
        "sampleText = \"Hello, Kaggle\"\n",
        "upper_text = sampleText.upper()\n",
        "print(upper_text) #str만 가능"
      ],
      "metadata": {
        "colab": {
          "base_uri": "https://localhost:8080/"
        },
        "id": "PUi3i_WDPjKn",
        "outputId": "5ef2153a-4970-428c-fb44-bc4df8a954b6"
      },
      "execution_count": 46,
      "outputs": [
        {
          "output_type": "stream",
          "name": "stdout",
          "text": [
            "HELLO, KAGGLE\n"
          ]
        }
      ]
    },
    {
      "cell_type": "code",
      "source": [
        "sampleText = \"Hello, world\"\n",
        "new_text = sampleText.split(sep = \",\")\n",
        "print(new_text)"
      ],
      "metadata": {
        "colab": {
          "base_uri": "https://localhost:8080/"
        },
        "id": "4JqmIrLtUXJk",
        "outputId": "fb55dea1-f9eb-4e62-860e-2fd4cc947414"
      },
      "execution_count": 52,
      "outputs": [
        {
          "output_type": "stream",
          "name": "stdout",
          "text": [
            "['Hello', ' world']\n"
          ]
        }
      ]
    },
    {
      "cell_type": "code",
      "source": [
        "A, B = map(int, input().split())\n",
        "\n",
        "if A > 0 and B < 10:\n",
        "    print(A + B)\n"
      ],
      "metadata": {
        "colab": {
          "base_uri": "https://localhost:8080/"
        },
        "id": "wFN38FeVYiew",
        "outputId": "9f791816-c882-47d5-87d5-b5faa516db34"
      },
      "execution_count": 55,
      "outputs": [
        {
          "output_type": "stream",
          "name": "stdout",
          "text": [
            "1 2 \n",
            "3\n"
          ]
        }
      ]
    },
    {
      "cell_type": "code",
      "source": [
        "#시퀀스 데이터\n",
        "\n",
        "#시퀀스 데이터여야 반복문 실행가능\n",
        "\n",
        "from collections.abc import Sequence\n",
        "\n",
        "my_num = 100\n",
        "my_list = [1,2,3]\n",
        "my_string = \"hello\"\n",
        "\n",
        "isSeq1 = isinstance(my_list, Sequence)\n",
        "print(isSeq1)"
      ],
      "metadata": {
        "colab": {
          "base_uri": "https://localhost:8080/"
        },
        "id": "YlVhmsYHY9k6",
        "outputId": "bd01645b-d468-4a38-dabe-72ae0bc9728c"
      },
      "execution_count": 61,
      "outputs": [
        {
          "output_type": "stream",
          "name": "stdout",
          "text": [
            "True\n"
          ]
        }
      ]
    },
    {
      "cell_type": "code",
      "source": [
        "#인덱싱 & 슬라이스\n",
        "#리스트 역시 문자열 돌렸던 방식과 동일\n",
        "\n",
        "# 문제 1: banana 글자에서 알파벳 a (글자의 마지막 추출)\n",
        "# 문제 2: \n",
        "b = [1, 2, [\"apple\", \"banana\", \"lemon\"], 10, \"11\"]\n",
        "\n",
        "c = b[2][1]\n",
        "\n",
        "print(c[5])\n",
        "print(b[2][1:3])"
      ],
      "metadata": {
        "colab": {
          "base_uri": "https://localhost:8080/"
        },
        "id": "vJRpUFqh2cCM",
        "outputId": "f695286f-9a86-4438-c7c2-a74b40203b6b"
      },
      "execution_count": 70,
      "outputs": [
        {
          "output_type": "stream",
          "name": "stdout",
          "text": [
            "a\n",
            "['banana', 'lemon']\n"
          ]
        }
      ]
    },
    {
      "cell_type": "code",
      "source": [
        "#리스트 메서드 종류\n",
        "a = []\n",
        "# 1. append()\n",
        "q = [1,2,3,4,54]\n",
        "a.append(q) #리스트 그 자체로 넣어버림\n",
        "\n",
        "# 2. extend\n",
        "\n",
        "text = [\"a\", 2, \"b\"] # 안에 있는 내용을 넣음\n",
        "a.extend(text)\n",
        "\n",
        "# 3. insert\n",
        "x = [\"가\", \"나\", \"다\"]\n",
        "x.insert(2, \"라\") #2번 인덱스 자리에  \"라\" 입력 \"다\"가 뒤로 밀림\n",
        "print(x)\n",
        "\n",
        "#4. 리스트 값 변경\n",
        "y = [\"가\", \"나\", \"다\", 2]\n",
        "y[3] = \"라\"\n",
        "y\n",
        "\n",
        "#5 리스트 값 삭제\n",
        "dates = [412, 510, 531, 1010] #412 제거\n",
        "dates.remove(412)\n",
        "\n",
        "#6 del\n",
        "\n",
        "del dates[0]\n",
        "dates\n",
        "\n",
        "\n"
      ],
      "metadata": {
        "colab": {
          "base_uri": "https://localhost:8080/"
        },
        "id": "v81am8yp3GvR",
        "outputId": "55b4156a-af27-466e-b77b-30df46f18a9c"
      },
      "execution_count": 86,
      "outputs": [
        {
          "output_type": "stream",
          "name": "stdout",
          "text": [
            "['가', '나', '라', '다']\n"
          ]
        },
        {
          "output_type": "execute_result",
          "data": {
            "text/plain": [
              "[531, 1010]"
            ]
          },
          "metadata": {},
          "execution_count": 86
        }
      ]
    },
    {
      "cell_type": "code",
      "source": [
        "# 튜플\n",
        "\n",
        "my_tuple = (\"hi\", 1, 2, 3)\n",
        "print(my_tuple)\n",
        "print(type(my_tuple))"
      ],
      "metadata": {
        "colab": {
          "base_uri": "https://localhost:8080/"
        },
        "id": "vqh9DtGBB2FA",
        "outputId": "3b6097df-3639-4d60-b509-b6b158246c85"
      },
      "execution_count": 88,
      "outputs": [
        {
          "output_type": "stream",
          "name": "stdout",
          "text": [
            "('hi', 1, 2, 3)\n",
            "<class 'tuple'>\n"
          ]
        }
      ]
    },
    {
      "cell_type": "code",
      "source": [
        "# 리스트와 튜플의 공통점\n",
        "\n",
        "a = (1, 2, (\"Apple\", \"사과\", \"banana\", \"키위\"), 4, 5, 6)\n",
        "a[2][2][-1]\n",
        "\n",
        "# 튜플은 수정이 불가능하다.\n",
        "dates = (419,222,333,44,5)\n",
        "dates.remove(419) #remove 안됨\n",
        "del dates[0] #삭제도 불가능\n",
        "dates[0] = 1 #변경도 불가능"
      ],
      "metadata": {
        "colab": {
          "base_uri": "https://localhost:8080/",
          "height": 245
        },
        "id": "6NwjnIbFCYhQ",
        "outputId": "eb4fc220-281b-41eb-814b-dc315d35ea00"
      },
      "execution_count": 96,
      "outputs": [
        {
          "output_type": "error",
          "ename": "AttributeError",
          "evalue": "ignored",
          "traceback": [
            "\u001b[0;31m---------------------------------------------------------------------------\u001b[0m",
            "\u001b[0;31mAttributeError\u001b[0m                            Traceback (most recent call last)",
            "\u001b[0;32m<ipython-input-96-af95bf304760>\u001b[0m in \u001b[0;36m<cell line: 8>\u001b[0;34m()\u001b[0m\n\u001b[1;32m      6\u001b[0m \u001b[0;31m# 튜플은 수정이 불가능하다.\u001b[0m\u001b[0;34m\u001b[0m\u001b[0;34m\u001b[0m\u001b[0m\n\u001b[1;32m      7\u001b[0m \u001b[0mdates\u001b[0m \u001b[0;34m=\u001b[0m \u001b[0;34m(\u001b[0m\u001b[0;36m419\u001b[0m\u001b[0;34m,\u001b[0m\u001b[0;36m222\u001b[0m\u001b[0;34m,\u001b[0m\u001b[0;36m333\u001b[0m\u001b[0;34m,\u001b[0m\u001b[0;36m44\u001b[0m\u001b[0;34m,\u001b[0m\u001b[0;36m5\u001b[0m\u001b[0;34m)\u001b[0m\u001b[0;34m\u001b[0m\u001b[0;34m\u001b[0m\u001b[0m\n\u001b[0;32m----> 8\u001b[0;31m \u001b[0mdates\u001b[0m\u001b[0;34m.\u001b[0m\u001b[0mremove\u001b[0m\u001b[0;34m(\u001b[0m\u001b[0;36m419\u001b[0m\u001b[0;34m)\u001b[0m \u001b[0;31m#remove 안됨\u001b[0m\u001b[0;34m\u001b[0m\u001b[0;34m\u001b[0m\u001b[0m\n\u001b[0m\u001b[1;32m      9\u001b[0m \u001b[0;32mdel\u001b[0m \u001b[0mdates\u001b[0m\u001b[0;34m[\u001b[0m\u001b[0;36m0\u001b[0m\u001b[0;34m]\u001b[0m \u001b[0;31m#삭제도 불가능\u001b[0m\u001b[0;34m\u001b[0m\u001b[0;34m\u001b[0m\u001b[0m\n\u001b[1;32m     10\u001b[0m \u001b[0mdates\u001b[0m\u001b[0;34m[\u001b[0m\u001b[0;36m0\u001b[0m\u001b[0;34m]\u001b[0m \u001b[0;34m=\u001b[0m \u001b[0;36m1\u001b[0m \u001b[0;31m#변경도 불가능\u001b[0m\u001b[0;34m\u001b[0m\u001b[0;34m\u001b[0m\u001b[0m\n",
            "\u001b[0;31mAttributeError\u001b[0m: 'tuple' object has no attribute 'remove'"
          ]
        }
      ]
    },
    {
      "cell_type": "code",
      "source": [
        "my_tuple = (\"가\", \"나\", \"나\", \"라\")\n",
        "print(my_tuple.count(\"나\"))\n",
        "print(my_tuple.index(\"나\"))"
      ],
      "metadata": {
        "colab": {
          "base_uri": "https://localhost:8080/"
        },
        "id": "L3ssDAEREnKh",
        "outputId": "48074302-5d01-4c1f-b15b-7f5592189dbb"
      },
      "execution_count": 100,
      "outputs": [
        {
          "output_type": "stream",
          "name": "stdout",
          "text": [
            "2\n",
            "1\n"
          ]
        }
      ]
    },
    {
      "cell_type": "code",
      "source": [
        "# 딕셔너리\n",
        "\n",
        "my_dict = {\n",
        "    \"name\" : \"chris\",\n",
        "    \"age\" : 28,\n",
        "    \"job\" : \"student\",\n",
        "}\n",
        "\n",
        "\n",
        "#문제 : 태어난 도시를 추가하세요.\n",
        "#딕셔너리 값 추가\n",
        "\n",
        "my_dict[\"city\"] = \"seoul\"\n",
        "\n",
        "my_dict\n",
        "\n",
        "# 값 수정\n",
        "my_dict[\"shopping\"] = \"\"\n",
        "my_dict"
      ],
      "metadata": {
        "colab": {
          "base_uri": "https://localhost:8080/"
        },
        "id": "auIZoGNiFYYP",
        "outputId": "c9afd3e4-5579-433a-fa46-3cb286658c2e"
      },
      "execution_count": 111,
      "outputs": [
        {
          "output_type": "execute_result",
          "data": {
            "text/plain": [
              "{'name': 'chris', 'age': 28, 'job': 'student', 'city': 'seoul', 'shipping': ''}"
            ]
          },
          "metadata": {},
          "execution_count": 111
        }
      ]
    },
    {
      "cell_type": "code",
      "source": [
        "print(my_dict.keys())\n",
        "print(my_dict.values())\n",
        "\n",
        "\n",
        "result = list(my_dict.items())\n",
        "print(result)"
      ],
      "metadata": {
        "colab": {
          "base_uri": "https://localhost:8080/"
        },
        "id": "s4EFmKyGI6BA",
        "outputId": "fb1baf9d-efcc-4ffe-801e-83d60db3aa9f"
      },
      "execution_count": 116,
      "outputs": [
        {
          "output_type": "stream",
          "name": "stdout",
          "text": [
            "dict_keys(['name', 'age', 'job', 'city', 'shipping'])\n",
            "dict_values(['chris', 28, 'student', 'seoul', ''])\n",
            "[('name', 'chris'), ('age', 28), ('job', 'student'), ('city', 'seoul'), ('shipping', '')]\n"
          ]
        }
      ]
    },
    {
      "cell_type": "code",
      "source": [
        "for i in my_dict:\n",
        "  print(i) #인덱스 번호로 할당이되거나 그런게 아님 / key값\n",
        "  #print(my_dict[i])"
      ],
      "metadata": {
        "colab": {
          "base_uri": "https://localhost:8080/"
        },
        "id": "z-NpKHdgJM1R",
        "outputId": "8a64a406-c14a-4624-a32e-f094e28aa029"
      },
      "execution_count": 117,
      "outputs": [
        {
          "output_type": "stream",
          "name": "stdout",
          "text": [
            "name\n",
            "age\n",
            "job\n",
            "city\n",
            "shipping\n"
          ]
        }
      ]
    },
    {
      "cell_type": "code",
      "source": [
        "#조건문\n",
        "\n",
        "a = 30\n",
        "b = 30\n",
        "\n",
        "if a > b:\n",
        "  print(\"a가 더 크다.\")\n",
        "elif a < b:\n",
        "  print(\"b가 더 크다.\")\n",
        "else:\n",
        "  print(\"두개가 같다.\")"
      ],
      "metadata": {
        "colab": {
          "base_uri": "https://localhost:8080/"
        },
        "id": "oOOHOey7JoJZ",
        "outputId": "ce080cfd-9be5-4b8e-ed5f-c65045187c73"
      },
      "execution_count": 122,
      "outputs": [
        {
          "output_type": "stream",
          "name": "stdout",
          "text": [
            "두개가 같다.\n"
          ]
        }
      ]
    },
    {
      "cell_type": "code",
      "source": [
        "# 문제 input() 임의의 숫자만 입력 1~100\n",
        "#90점이상 a 80점이상 b 나머지 c\n",
        "\n",
        "score = int(input(\"점수를 입력하세요 : \"))\n",
        "\n",
        "if score >= 90:\n",
        "  print(\"A\")\n",
        "elif score >= 80:\n",
        "  print(\"B\")\n",
        "else:\n",
        "  print(\"C\")\n"
      ],
      "metadata": {
        "colab": {
          "base_uri": "https://localhost:8080/"
        },
        "id": "wEHE787OKAuQ",
        "outputId": "c8d2a753-88b3-4ddc-cad3-b17b0798c7e6"
      },
      "execution_count": 126,
      "outputs": [
        {
          "output_type": "stream",
          "name": "stdout",
          "text": [
            "점수를 입력하세요 : 0\n",
            "C\n"
          ]
        }
      ]
    },
    {
      "cell_type": "code",
      "source": [
        "#for loop\n",
        "#반복문을 쓰는 이유 - 반복 작업\n",
        "\n",
        "print(\"Hello World \\n\" * 100)"
      ],
      "metadata": {
        "id": "YtVrNMhiPW3g"
      },
      "execution_count": null,
      "outputs": []
    },
    {
      "cell_type": "code",
      "source": [
        "programming = [\"파이썬\", \"HTML\", \"CSS\", \"JAVA\"]\n",
        "p = 1\n",
        "\n",
        "for idx in programming:\n",
        "  print(idx)\n",
        "else:\n",
        "  print(\"프로그램 종료\")\n",
        "for idx in p:\n",
        "  print(idx) #int 타입 시퀸스 x 반복문 사용불가\n"
      ],
      "metadata": {
        "colab": {
          "base_uri": "https://localhost:8080/",
          "height": 318
        },
        "id": "mn4HlXPZRpXI",
        "outputId": "e715bc4f-8e14-43a0-c3f9-9e36154aee7b"
      },
      "execution_count": 133,
      "outputs": [
        {
          "output_type": "stream",
          "name": "stdout",
          "text": [
            "파이썬\n",
            "HTML\n",
            "CSS\n",
            "JAVA\n",
            "프로그램 종료\n"
          ]
        },
        {
          "output_type": "error",
          "ename": "TypeError",
          "evalue": "ignored",
          "traceback": [
            "\u001b[0;31m---------------------------------------------------------------------------\u001b[0m",
            "\u001b[0;31mTypeError\u001b[0m                                 Traceback (most recent call last)",
            "\u001b[0;32m<ipython-input-133-5a47144cc17d>\u001b[0m in \u001b[0;36m<cell line: 8>\u001b[0;34m()\u001b[0m\n\u001b[1;32m      6\u001b[0m \u001b[0;32melse\u001b[0m\u001b[0;34m:\u001b[0m\u001b[0;34m\u001b[0m\u001b[0;34m\u001b[0m\u001b[0m\n\u001b[1;32m      7\u001b[0m   \u001b[0mprint\u001b[0m\u001b[0;34m(\u001b[0m\u001b[0;34m\"프로그램 종료\"\u001b[0m\u001b[0;34m)\u001b[0m\u001b[0;34m\u001b[0m\u001b[0;34m\u001b[0m\u001b[0m\n\u001b[0;32m----> 8\u001b[0;31m \u001b[0;32mfor\u001b[0m \u001b[0midx\u001b[0m \u001b[0;32min\u001b[0m \u001b[0mp\u001b[0m\u001b[0;34m:\u001b[0m\u001b[0;34m\u001b[0m\u001b[0;34m\u001b[0m\u001b[0m\n\u001b[0m\u001b[1;32m      9\u001b[0m   \u001b[0mprint\u001b[0m\u001b[0;34m(\u001b[0m\u001b[0midx\u001b[0m\u001b[0;34m)\u001b[0m \u001b[0;31m#int 타입 시퀸스 x 반복문 사용불가\u001b[0m\u001b[0;34m\u001b[0m\u001b[0;34m\u001b[0m\u001b[0m\n",
            "\u001b[0;31mTypeError\u001b[0m: 'int' object is not iterable"
          ]
        }
      ]
    },
    {
      "cell_type": "code",
      "source": [
        "for idx, item in enumerate(programming):\n",
        "  print(idx + 1, item)"
      ],
      "metadata": {
        "colab": {
          "base_uri": "https://localhost:8080/"
        },
        "id": "42hbs5KwSnb6",
        "outputId": "9b1def08-4358-4f02-eaab-b91840333d47"
      },
      "execution_count": 135,
      "outputs": [
        {
          "output_type": "stream",
          "name": "stdout",
          "text": [
            "1 파이썬\n",
            "2 HTML\n",
            "3 CSS\n",
            "4 JAVA\n"
          ]
        }
      ]
    }
  ]
}